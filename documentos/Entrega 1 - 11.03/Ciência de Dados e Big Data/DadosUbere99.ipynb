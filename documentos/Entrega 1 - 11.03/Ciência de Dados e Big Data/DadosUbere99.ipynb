{
 "cells": [
  {
   "cell_type": "code",
   "execution_count": 1,
   "id": "43876fa5-1e26-4d18-8a2e-a53701069cdf",
   "metadata": {},
   "outputs": [],
   "source": [
    "import pandas as pd\n"
   ]
  },
  {
   "cell_type": "code",
   "execution_count": 2,
   "id": "111d2944-1de2-4c66-87b6-52aa90cd2cc2",
   "metadata": {},
   "outputs": [
    {
     "name": "stdout",
     "output_type": "stream",
     "text": [
      "1.26.4\n"
     ]
    }
   ],
   "source": [
    "import numpy as np\n",
    "print (np.__version__)"
   ]
  },
  {
   "cell_type": "code",
   "execution_count": 3,
   "id": "f6e9174b-7a74-441f-9ea9-3dbb60c67d92",
   "metadata": {},
   "outputs": [
    {
     "name": "stdout",
     "output_type": "stream",
     "text": [
      "['.ipynb_checkpoints', 'DadosUbere99.ipynb', 'product.csv', 'rideaddress_v1.csv', 'rideestimative_v3.csv', 'ride_v2.csv']\n"
     ]
    }
   ],
   "source": [
    "import os\n",
    "print(os.listdir())  # Isso mostrará todos os arquivos no diretório do Jupyter Notebook"
   ]
  },
  {
   "cell_type": "markdown",
   "id": "49c51d9e-960a-4d7d-b25c-97a4b746d8c7",
   "metadata": {},
   "source": [
    "Ajustando a tabela Rideaddress_v1 (limpando)"
   ]
  },
  {
   "cell_type": "code",
   "execution_count": 7,
   "id": "2a8646ea-51cf-4410-86e1-c86985c9fb33",
   "metadata": {},
   "outputs": [
    {
     "name": "stdout",
     "output_type": "stream",
     "text": [
      "✅ Arquivo carregado com sucesso!\n",
      "\n",
      "📌 Valores Nulos ANTES do tratamento:\n",
      "RideAddressID             0\n",
      "Address                   0\n",
      "Street                 1897\n",
      "Number               215630\n",
      "Neighborhood         589968\n",
      "City                 382202\n",
      "State                231456\n",
      "Lat                       0\n",
      "Lng                       0\n",
      "RideAddressTypeID         0\n",
      "RideID                    0\n",
      "dtype: int64\n",
      "\n",
      "✅ Valores nulos preenchidos com 'Desconhecido' para Neighborhood, City, State e Street.\n",
      "✅ Coluna 'Number' removida com sucesso.\n",
      "\n",
      "✅ Inferência de Neighborhood e City baseada em Street feita com sucesso!\n",
      "\n",
      "✅ Linhas com valores nulos removidas.\n",
      "\n",
      "📌 Valores nulos após tratamento:\n",
      "RideAddressID        0\n",
      "Address              0\n",
      "Street               0\n",
      "Neighborhood         0\n",
      "City                 0\n",
      "State                0\n",
      "Lat                  0\n",
      "Lng                  0\n",
      "RideAddressTypeID    0\n",
      "RideID               0\n",
      "dtype: int64\n",
      "\n",
      "📌 Colunas finais após tratamento:\n",
      "- RideAddressID\n",
      "- Address\n",
      "- Street\n",
      "- Neighborhood\n",
      "- City\n",
      "- State\n",
      "- Lat\n",
      "- Lng\n",
      "- RideAddressTypeID\n",
      "- RideID\n",
      "\n",
      "✅ Arquivo 'rideaddress_v1_limpo.csv' salvo com sucesso!\n"
     ]
    }
   ],
   "source": [
    "# Importações necessárias\n",
    "import pandas as pd\n",
    "\n",
    "# 1️⃣ Carregar o arquivo CSV rideaddress_v1.csv\n",
    "df_corrigido = pd.read_csv(\"rideaddress_v1.csv\", delimiter=\";\", low_memory=False)\n",
    "print(\"✅ Arquivo carregado com sucesso!\")\n",
    "\n",
    "# 2️⃣ Exibir valores nulos antes do tratamento\n",
    "print(\"\\n📌 Valores Nulos ANTES do tratamento:\")\n",
    "print(df_corrigido.isnull().sum())\n",
    "\n",
    "# 3️⃣ Preencher valores nulos básicos com \"Desconhecido\" nas colunas categóricas\n",
    "colunas_preencher = [\"Neighborhood\", \"City\", \"State\", \"Street\"]\n",
    "df_corrigido[colunas_preencher] = df_corrigido[colunas_preencher].fillna(\"Desconhecido\")\n",
    "print(\"\\n✅ Valores nulos preenchidos com 'Desconhecido' para Neighborhood, City, State e Street.\")\n",
    "\n",
    "# 4️⃣ Remover coluna \"Number\", se existir (não é relevante para a análise)\n",
    "if \"Number\" in df_corrigido.columns:\n",
    "    df_corrigido = df_corrigido.drop(columns=[\"Number\"])\n",
    "    print(\"✅ Coluna 'Number' removida com sucesso.\")\n",
    "else:\n",
    "    print(\"\\n⚠️ Coluna 'Number' já não existe.\")\n",
    "\n",
    "# 5️⃣ Inferir Neighborhood e City com base na coluna Street\n",
    "df_corrigido[\"Neighborhood\"] = df_corrigido.groupby(\"Street\")[\"Neighborhood\"].transform(\n",
    "    lambda x: x.fillna(x.mode()[0]) if not x.mode().empty else \"Desconhecido\"\n",
    ")\n",
    "\n",
    "df_corrigido[\"City\"] = df_corrigido.groupby(\"Street\")[\"City\"].transform(\n",
    "    lambda x: x.fillna(x.mode()[0]) if not x.mode().empty else \"Desconhecido\"\n",
    ")\n",
    "\n",
    "print(\"\\n✅ Inferência de Neighborhood e City baseada em Street feita com sucesso!\")\n",
    "\n",
    "# 6️⃣ Remover qualquer linha que ainda tenha valores nulos\n",
    "df_corrigido = df_corrigido.dropna()\n",
    "print(\"\\n✅ Linhas com valores nulos removidas.\")\n",
    "\n",
    "# 7️⃣ Exibir valores nulos após o tratamento\n",
    "print(\"\\n📌 Valores nulos após tratamento:\")\n",
    "print(df_corrigido.isnull().sum())\n",
    "\n",
    "# 8️⃣ Listar colunas que ficaram após a limpeza\n",
    "print(\"\\n📌 Colunas finais após tratamento:\")\n",
    "for coluna in df_corrigido.columns:\n",
    "    print(\"-\", coluna)\n",
    "\n",
    "# 9️⃣ Salvar DataFrame corrigido em um novo arquivo CSV\n",
    "arquivo_saida = \"rideaddress_v1_limpo.csv\"\n",
    "df_corrigido.to_csv(arquivo_saida, index=False, sep=\";\")\n",
    "\n",
    "print(f\"\\n✅ Arquivo '{arquivo_saida}' salvo com sucesso!\")\n"
   ]
  },
  {
   "cell_type": "markdown",
   "id": "a31e5c89-2012-4576-9a94-94abc739aaa7",
   "metadata": {},
   "source": [
    "Ajustando a tabela Ride_v2 (limpando)"
   ]
  },
  {
   "cell_type": "code",
   "execution_count": 6,
   "id": "44922ad6-f27a-419c-9fce-27b54a8919f1",
   "metadata": {},
   "outputs": [
    {
     "name": "stdout",
     "output_type": "stream",
     "text": [
      "✅ Arquivo carregado com sucesso!\n",
      "\n",
      "📌 Valores Nulos ANTES do tratamento:\n",
      "RideID                       0\n",
      "UserID                       0\n",
      "Schedule                     0\n",
      "Create                       0\n",
      "RideStatusID                 0\n",
      "CompanyID                    0\n",
      "ProviderID              271843\n",
      "RideProviderID          478560\n",
      "price                        0\n",
      "Updated                      0\n",
      "CategoryID              475286\n",
      "TotalUsers                   0\n",
      "Car                     485056\n",
      "RideDriverLocationID    485136\n",
      "ScheduledRide                0\n",
      "dtype: int64\n"
     ]
    }
   ],
   "source": [
    "# Importações necessárias\n",
    "import pandas as pd\n",
    "\n",
    "# 1️⃣ Carregar o arquivo CSV ride_v2.csv\n",
    "df_corrigido = pd.read_csv(\"ride_v2.csv\", delimiter=\";\", low_memory=False)\n",
    "print(\"✅ Arquivo carregado com sucesso!\")\n",
    "\n",
    "# 2️⃣ Exibir valores nulos antes do tratamento\n",
    "print(\"\\n📌 Valores Nulos ANTES do tratamento:\")\n",
    "print(df_corrigido.isnull().sum())"
   ]
  },
  {
   "cell_type": "markdown",
   "id": "9c1c40d8-e808-4ced-b22e-fc107b390e4d",
   "metadata": {},
   "source": [
    "Ajustando a tabela product (limpando)"
   ]
  },
  {
   "cell_type": "code",
   "execution_count": 7,
   "id": "f5bb86bc-6e17-4583-9469-5d84ffc7a4c9",
   "metadata": {},
   "outputs": [
    {
     "name": "stdout",
     "output_type": "stream",
     "text": [
      "✅ Arquivo carregado com sucesso!\n",
      "\n",
      "📌 Valores Nulos ANTES do tratamento:\n",
      "ProductID      0\n",
      "ProviderID     0\n",
      "CategoryID     0\n",
      "Description    0\n",
      "dtype: int64\n"
     ]
    }
   ],
   "source": [
    "# Importações necessárias\n",
    "import pandas as pd\n",
    "\n",
    "# 1️⃣ Carregar o arquivo CSV product.csv\n",
    "df_corrigido = pd.read_csv(\"product.csv\", delimiter=\";\", low_memory=False)\n",
    "print(\"✅ Arquivo carregado com sucesso!\")\n",
    "\n",
    "# 2️⃣ Exibir valores nulos antes do tratamento\n",
    "print(\"\\n📌 Valores Nulos ANTES do tratamento:\")\n",
    "print(df_corrigido.isnull().sum())"
   ]
  },
  {
   "cell_type": "markdown",
   "id": "32f55e42-f517-4929-ad73-f8aed2790252",
   "metadata": {},
   "source": [
    "Ajustando a tabela Rideestimative_v3 (limpando)"
   ]
  },
  {
   "cell_type": "code",
   "execution_count": 8,
   "id": "6a03f02b-4a31-4bee-ba52-9467f986e4bd",
   "metadata": {},
   "outputs": [
    {
     "name": "stdout",
     "output_type": "stream",
     "text": [
      "✅ Arquivo carregado com sucesso!\n",
      "\n",
      "📌 Valores Nulos ANTES do tratamento:\n",
      "RideEstimativeID                        0\n",
      "RideID                                  0\n",
      "ProductID                               0\n",
      "WaitingTime                             0\n",
      "Price                                   0\n",
      "FareID                             818225\n",
      "Selected                                0\n",
      "RideReasonSelectedEstimativeID    1765979\n",
      "Fee                                     0\n",
      "dtype: int64\n"
     ]
    }
   ],
   "source": [
    "# Importações necessárias\n",
    "import pandas as pd\n",
    "\n",
    "# 1️⃣ Carregar o arquivo CSV Rideestimative_v3\n",
    "df_corrigido = pd.read_csv(\"rideestimative_v3.csv\", delimiter=\";\", low_memory=False)\n",
    "print(\"✅ Arquivo carregado com sucesso!\")\n",
    "\n",
    "# 2️⃣ Exibir valores nulos antes do tratamento\n",
    "print(\"\\n📌 Valores Nulos ANTES do tratamento:\")\n",
    "print(df_corrigido.isnull().sum())"
   ]
  },
  {
   "cell_type": "code",
   "execution_count": null,
   "id": "94cb538a-119a-4062-b302-94e1b8491a23",
   "metadata": {},
   "outputs": [],
   "source": []
  }
 ],
 "metadata": {
  "kernelspec": {
   "display_name": "Python 3 (ipykernel)",
   "language": "python",
   "name": "python3"
  },
  "language_info": {
   "codemirror_mode": {
    "name": "ipython",
    "version": 3
   },
   "file_extension": ".py",
   "mimetype": "text/x-python",
   "name": "python",
   "nbconvert_exporter": "python",
   "pygments_lexer": "ipython3",
   "version": "3.12.7"
  }
 },
 "nbformat": 4,
 "nbformat_minor": 5
}
